{
  "nbformat": 4,
  "nbformat_minor": 0,
  "metadata": {
    "colab": {
      "provenance": []
    },
    "kernelspec": {
      "name": "python3",
      "display_name": "Python 3"
    },
    "language_info": {
      "name": "python"
    }
  },
  "cells": [
    {
      "cell_type": "markdown",
      "source": [
        "# Lab 2 - Lemmatization"
      ],
      "metadata": {
        "id": "OVcKkHg0jLA_"
      }
    },
    {
      "cell_type": "code",
      "execution_count": 6,
      "metadata": {
        "colab": {
          "base_uri": "https://localhost:8080/"
        },
        "id": "IetaBZZCf-oJ",
        "outputId": "974c53df-7556-4b45-8f76-c67a91865360"
      },
      "outputs": [
        {
          "output_type": "stream",
          "name": "stderr",
          "text": [
            "[nltk_data] Downloading package wordnet to /root/nltk_data...\n",
            "[nltk_data]   Package wordnet is already up-to-date!\n"
          ]
        },
        {
          "output_type": "execute_result",
          "data": {
            "text/plain": [
              "True"
            ]
          },
          "metadata": {},
          "execution_count": 6
        }
      ],
      "source": [
        "import nltk\n",
        "nltk.download('wordnet')"
      ]
    },
    {
      "cell_type": "code",
      "source": [
        "from nltk.stem import WordNetLemmatizer, PorterStemmer\n",
        "stemmer = PorterStemmer()\n",
        "lemmatizer = WordNetLemmatizer()"
      ],
      "metadata": {
        "id": "qGeQWL4agBUA"
      },
      "execution_count": 30,
      "outputs": []
    },
    {
      "cell_type": "code",
      "source": [
        "print(\"rocks :\", lemmatizer.lemmatize(\"rocks\"))\n",
        "print(\"running :\", lemmatizer.lemmatize(\"running\", pos =\"v\"))\n",
        "print(\"creating :\", lemmatizer.lemmatize(\"creating\", pos =\"v\"))\n",
        "print(\"better :\", lemmatizer.lemmatize(\"better\", pos =\"a\"))\n",
        "print(\"hopefully :\", lemmatizer.lemmatize(stemmer.stem(\"hopefully\"), pos =\"s\"))"
      ],
      "metadata": {
        "colab": {
          "base_uri": "https://localhost:8080/"
        },
        "id": "1BFBCxd2gLC6",
        "outputId": "7a951dc1-7b9c-4ab1-ef7b-6bdce88bcdb3"
      },
      "execution_count": 32,
      "outputs": [
        {
          "output_type": "stream",
          "name": "stdout",
          "text": [
            "rocks : rock\n",
            "running : run\n",
            "creating : create\n",
            "better : good\n",
            "hopefully : hope\n"
          ]
        }
      ]
    },
    {
      "cell_type": "code",
      "source": [
        "print(\"beautifully :\", lemmatizer.lemmatize(stemmer.stem(\"beautifully\"), pos =\"a\"))"
      ],
      "metadata": {
        "colab": {
          "base_uri": "https://localhost:8080/"
        },
        "id": "XtGjGoUWjCFn",
        "outputId": "b00621ae-e454-4954-da94-f068174d864b"
      },
      "execution_count": 33,
      "outputs": [
        {
          "output_type": "stream",
          "name": "stdout",
          "text": [
            "beautifully : beauti\n"
          ]
        }
      ]
    }
  ]
}