{
  "cells": [
    {
      "cell_type": "markdown",
      "metadata": {},
      "source": [
        "# Lab 6 - Summarization Using TF-IDF"
      ]
    },
    {
      "cell_type": "code",
      "execution_count": null,
      "metadata": {
        "id": "sKBGObHIbC8q"
      },
      "outputs": [],
      "source": [
        "import nltk\n",
        "from nltk.tokenize import word_tokenize, sent_tokenize\n",
        "from nltk.corpus import stopwords\n",
        "from collections import defaultdict"
      ]
    },
    {
      "cell_type": "code",
      "execution_count": null,
      "metadata": {
        "colab": {
          "base_uri": "https://localhost:8080/"
        },
        "id": "f3W48jhDbWS_",
        "outputId": "61a4b006-533a-490a-9420-e27cd72bc247"
      },
      "outputs": [
        {
          "name": "stderr",
          "output_type": "stream",
          "text": [
            "[nltk_data] Downloading package punkt to /root/nltk_data...\n",
            "[nltk_data]   Unzipping tokenizers/punkt.zip.\n",
            "[nltk_data] Downloading package stopwords to /root/nltk_data...\n",
            "[nltk_data]   Unzipping corpora/stopwords.zip.\n"
          ]
        },
        {
          "data": {
            "text/plain": [
              "True"
            ]
          },
          "execution_count": 3,
          "metadata": {},
          "output_type": "execute_result"
        }
      ],
      "source": [
        "# Download required resources\n",
        "nltk.download('punkt')\n",
        "nltk.download('stopwords')"
      ]
    },
    {
      "cell_type": "code",
      "execution_count": null,
      "metadata": {
        "id": "uc4Rmkc8bUnt"
      },
      "outputs": [],
      "source": [
        "# Load the document content\n",
        "document = \"\"\"Science and technology often facilitate one another; the latest discoveries in one will lead to new discoveries in the other. Along with innovations in engineering, medicine, and many other fields, this co-evolution can also be seen in physics. The continuing improvements in technology, in particular artificial intelligence (AI) and machine learning (ML), open doors for physics researchers to explore more precise and in-depth topics — leading to new discoveries and a deeper understanding of our world.\n",
        "With roots in statistical mechanics, the mathematical foundation of AI development is shared with many branches of physics, making the two natural counterparts. Since “physics” is an extremely broad subject area and covers many different fields, each field may utilize AI differently.\n",
        "This article will briefly explore the uses of AI in a few different fields of physics, namely particle physics, astrophysics, medical physics, and condensed matter physics.\n",
        "Particle physics dives into the fundamental forces and constituent parts which make up matter and radiation in the universe. In particle physics, artificial intelligence has been implemented to solve many problems. Classification, regression, and anomaly detection are all abilities that AI has that solve problems in particle physics. Artificial intelligence in particle physics is so common that physicists Dr. Matthew Feickert and Dr. Benjamin Nachman have compiled an organized reference page of particle physics research papers and reviews utilizing machine learning.\n",
        "At the Stanford Linear Accelerator Center, run by Stanford University, physicists are using techniques inspired by computer vision to enhance the tagging and processing of images of streams of particles, called jets, produced as a result of the radioactive decay of heavy particles. The same scientists continued to build on their research and used deep learning tools to identify a charge-carrying particle called a W boson. This particle is one of two responsible for the weak force, one of four fundamental forces which govern the interaction of matter in our universe. These processes utilized tools from facial recognition, Monte Carlo simulations, and many more techniques and tools based in artificial intelligence.\n",
        "The European Organization for Nuclear Research, more commonly referred to by the acronym CERN, comes from the French name “Conseil Européen pour la Recherche Nucléaire” and is home to some of the newest and most cutting-edge research in the field of particle physics. One of the most famous machines at CERN is the Large Hadron Collider, also known as the LHC — the world’s largest particle accelerator. Every year, CERN stores over 30 petabytes of data from experiments done with the LHC, the equivalent of 250 years of HD video. With this amount of data, storage would not be possible without filtering techniques, which is one of CERN’s major uses for machine learning. These machine learning techniques can also assist in pattern recognition and determining physical conclusions, which led to the discovery of the Higgs Boson in 2012.\n",
        "Astrophysics covers the physical properties and phenomena behind stellar and astronomical objects in the universe. Similarly to the field of particle physics, astrophysical observations and research produce large quantities of data. The incorporation of AI in astrophysical research is thus heavily centered around data sorting; we can use machine learning algorithms to filter, sort, classify, and identify patterns in data.\n",
        "Research groups in Chile and the United States have begun using a new classification model which aims to identify and classify variable objects directly from images using a deep-learning tool called a recurrent convolutional neural network (RCNN). A team led by Dr. Carrasco-Davis used real-world datasets to train and test the RCNN classification model. This method eliminates certain required steps for previously used classification techniques with images, such as calculating difference images or light curves.\n",
        "Astrophysicists in the Netherlands and Belgium have also trained neural networks for their research, but with a different purpose. Hendriks and Aerts have used deep neural networks to model the cores of intermediate- and high-mass stars during the hydrogen-burning phase. This asteroseismological modelling, which studies vibrations in the matter that makes up the stars, has improved from previous techniques in speed and detail.\n",
        "In the field of medical physics, concepts in physics are applied to diagnosis, treatment, and prevention in health care. This area, like many others in physics, has embraced the development of artificial intelligence over recent years. Using AI in this field can not only improve research, but can also improve procedures and efficiency in healthcare as a whole.\n",
        "At Brown University, researchers have implemented deep learning techniques in their research to enhance identification of blockages in large blood vessels that could lead to strokes. By training neural networks, the group found that the model was sufficient in detecting blockages in large blood vessels and provided results with near-perfect accuracy.\n",
        "Additionally, many research groups are using AI to reduce errors in diagnosis by assisting medical professionals in their decision-making. In 2020, a research group introduced an AI system that could detect earlier stages of breast cancer by studying mammogram images. This detection is done the same way a radiologist would look at the images: the model looks for deviations in the mammogram image compared to images with no cancer. Using a computerized system helps to standardize the procedure and reduce the workload for healthcare professionals. Advancements like this are critical to medical physics and health care in general, as many research centers report low numbers of radiologists. AI assistance can reduce workload and increase the quality and quantity of care medical professionals provide.\n",
        "The field of condensed matter physics explores matter’s large-scale and small-scale properties, most commonly in solid and liquid states. This broad field is highly dominated by quantum mechanics, given the molecular interactions’ scale. Similarly, many modern technologies are also governed by quantum mechanics, as they rely on the fundamental interactions between light and matter and how information is carried on a microscopic level. Naturally, artificial intelligence and condensed matter physics pair well when applied together.\n",
        "Researchers worldwide have begun using AI to assist in the research of quantum materials, an overarching term for material with properties that cannot be explained with classical or semiclassical physics. Using information and data already known about matter and compounds, AI has been able to examine and project the properties of quantum materials. Using the common framework Density Functional Theory, physicists can produce simulations for materials to determine their properties. Machine learning helps to take multidimensional problems and make them more physically understandable.\n",
        "Unlike some other areas of physics, the ties between condensed matter physics and AI can be seen much more clearly, as this field of physics has dramatically impacted the advancements of AI. The theories of condensed matter physics have been applied explicitly to machine learning algorithms through the theories which characterize physical systems on various scales. This theoretical framework, called renormalization group, has been useful for analyzing systems with more than one constituent, referred to as a many-body problem. Through these theories, as well as many others, AI has been trained with more sophisticated algorithms to have then the ability to solve more complex problems.\n",
        "Overall, many advancements in physics would not be possible without the assistance of artificial intelligence. Complex problems require innovative and creative solutions, and the union of physics and artificial intelligence provides the necessary building blocks for uncovering powerful answers. The most difficult situations may still be yet to come, but with continuous breakthroughs in science and technology, researchers will have many tools and techniques at their fingertips.\"\"\""
      ]
    },
    {
      "cell_type": "code",
      "execution_count": null,
      "metadata": {
        "id": "yn_QZptObTG0"
      },
      "outputs": [],
      "source": [
        "# Tokenize sentences\n",
        "sentences = sent_tokenize(document)"
      ]
    },
    {
      "cell_type": "code",
      "execution_count": null,
      "metadata": {
        "id": "nA0--5xYbQmI"
      },
      "outputs": [],
      "source": [
        "# Tokenize words and compute term frequency for each sentence\n",
        "term_freq = defaultdict(int)\n",
        "for sentence in sentences:\n",
        "    for word in word_tokenize(sentence):\n",
        "        if word.lower() not in stopwords.words('english'):\n",
        "            term_freq[word.lower()] += 1"
      ]
    },
    {
      "cell_type": "code",
      "execution_count": null,
      "metadata": {
        "id": "qM6u9RlZbPjA"
      },
      "outputs": [],
      "source": [
        "# Score sentences based on term frequency\n",
        "sentence_scores = defaultdict(int)\n",
        "for sentence in sentences:\n",
        "    for word in word_tokenize(sentence):\n",
        "        if word.lower() in term_freq.keys():\n",
        "            sentence_scores[sentence] += term_freq[word.lower()]"
      ]
    },
    {
      "cell_type": "code",
      "execution_count": null,
      "metadata": {
        "id": "rcEBIqKGbLZk"
      },
      "outputs": [],
      "source": [
        "# Sort sentences based on scores\n",
        "sorted_sentences = sorted(sentence_scores, key=sentence_scores.get, reverse=True)"
      ]
    },
    {
      "cell_type": "code",
      "execution_count": null,
      "metadata": {
        "colab": {
          "base_uri": "https://localhost:8080/"
        },
        "id": "KMcs66j8bu-F",
        "outputId": "41ed0160-e0bb-4aa6-e814-1b99410045c2"
      },
      "outputs": [],
      "source": [
        "sorted_sentences"
      ]
    },
    {
      "cell_type": "code",
      "execution_count": null,
      "metadata": {
        "colab": {
          "base_uri": "https://localhost:8080/"
        },
        "id": "w-5sVqhabKUm",
        "outputId": "6de405e2-7fff-4880-ca9d-a624e514f2ea"
      },
      "outputs": [
        {
          "name": "stdout",
          "output_type": "stream",
          "text": [
            "This article will briefly explore the uses of AI in a few different fields of physics, namely particle physics, astrophysics, medical physics, and condensed matter physics. At the Stanford Linear Accelerator Center, run by Stanford University, physicists are using techniques inspired by computer vision to enhance the tagging and processing of images of streams of particles, called jets, produced as a result of the radioactive decay of heavy particles. In the field of medical physics, concepts in physics are applied to diagnosis, treatment, and prevention in health care. Unlike some other areas of physics, the ties between condensed matter physics and AI can be seen much more clearly, as this field of physics has dramatically impacted the advancements of AI. The incorporation of AI in astrophysical research is thus heavily centered around data sorting; we can use machine learning algorithms to filter, sort, classify, and identify patterns in data. Along with innovations in engineering, medicine, and many other fields, this co-evolution can also be seen in physics. The continuing improvements in technology, in particular artificial intelligence (AI) and machine learning (ML), open doors for physics researchers to explore more precise and in-depth topics — leading to new discoveries and a deeper understanding of our world. The European Organization for Nuclear Research, more commonly referred to by the acronym CERN, comes from the French name “Conseil Européen pour la Recherche Nucléaire” and is home to some of the newest and most cutting-edge research in the field of particle physics. This theoretical framework, called renormalization group, has been useful for analyzing systems with more than one constituent, referred to as a many-body problem. With roots in statistical mechanics, the mathematical foundation of AI development is shared with many branches of physics, making the two natural counterparts. Classification, regression, and anomaly detection are all abilities that AI has that solve problems in particle physics. This area, like many others in physics, has embraced the development of artificial intelligence over recent years. With this amount of data, storage would not be possible without filtering techniques, which is one of CERN’s major uses for machine learning. These processes utilized tools from facial recognition, Monte Carlo simulations, and many more techniques and tools based in artificial intelligence. Similarly, many modern technologies are also governed by quantum mechanics, as they rely on the fundamental interactions between light and matter and how information is carried on a microscopic level. Through these theories, as well as many others, AI has been trained with more sophisticated algorithms to have then the ability to solve more complex problems.\n"
          ]
        }
      ],
      "source": [
        "# Get the top sentences contributing to 30% of the original content\n",
        "summary_length = int(len(sentences) * 0.3)\n",
        "summary = \" \".join(sorted_sentences[:summary_length])\n",
        "\n",
        "print(summary)"
      ]
    }
  ],
  "metadata": {
    "colab": {
      "provenance": []
    },
    "kernelspec": {
      "display_name": "Python 3",
      "name": "python3"
    },
    "language_info": {
      "name": "python"
    }
  },
  "nbformat": 4,
  "nbformat_minor": 0
}
