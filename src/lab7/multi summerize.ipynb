{
  "cells": [
    {
      "cell_type": "markdown",
      "metadata": {},
      "source": [
        "# Lab 7 - Multi Document Text Summarization"
      ]
    },
    {
      "cell_type": "code",
      "execution_count": null,
      "metadata": {
        "id": "oOZ43rlgZ-6k"
      },
      "outputs": [],
      "source": [
        "articles = []"
      ]
    },
    {
      "cell_type": "code",
      "execution_count": null,
      "metadata": {
        "id": "aSPsKqzzeo2g"
      },
      "outputs": [],
      "source": [
        "import pandas as pd\n",
        "import numpy as np"
      ]
    },
    {
      "cell_type": "markdown",
      "metadata": {
        "id": "rrYYLSWTetN7"
      },
      "source": [
        "### Dataset"
      ]
    },
    {
      "cell_type": "code",
      "execution_count": null,
      "metadata": {
        "id": "T4h56o6Zaswx"
      },
      "outputs": [],
      "source": [
        "articles.append({\n",
        "    \"Title\": \"Article1\",\n",
        "    \"Content\":\"\"\"Unverified reports of ‘40 babies beheaded’ in Israel-Hamas war inflame social media\n",
        "No photo evidence had been made public as of Thursday morning corroborating claims that babies had been beheaded. Israel has published photos of dead infants after the terror attack.\n",
        "Editor’s note: This story includes graphic descriptions of violent acts that some readers may find disturbing.\n",
        "A series of shocking reports have spread horrific claims of baby beheadings by Hamas militants across social and mainstream media in recent days, adding a particularly incendiary element to an already violent and bitter war. But the reports are still unconfirmed, and in some cases have been retracted.\n",
        "The most high-profile claim came Wednesday night when President Joe Biden said that he had seen photographic evidence of terrorists beheading children. The White House later clarified that Biden was referring to news reports about beheadings, which have not included or referred to photographic evidence.\n",
        "Photos have been published by Hamas showing beheaded soldiers and the X account belonging to Israeli Prime Minister Benjamin Netanyahu posted pictures on Thursday of babies killed and burned by Hamas. No photo evidence had been made public as of Thursday morning corroborating claims that babies had been beheaded.\n",
        "Unverified information spreads quickly on social media, particularly around breaking news events, reaching even larger audiences when it is shared by mainstream news outlets, politicians and people with large followings. Follow-ups that retract or add context are less likely to be repeated or reach the same audience.\n",
        "Biden’s statement followed a series of news reports and comments from Israeli officials, most of which have since been softened or walked back. Easily debunked misinformation like fake press releases have circulated widely since the start of the war, but such stories often die down quickly once proven false. The claims about beheadings, difficult to verify, have continued to spread thanks in part to the lack of clarity.\n",
        "Alexei Abrahams, a disinformation researcher at McGill University in Montreal, said that even without the allegations of beheaded babies, “just the facts themselves are horrifying enough to have the kind of effect you expect.”\n",
        "“It may turn out that the slaughter was done in a particularly barbaric way. But one way or another, this is an absolutely shocking, unprecedented event of violence,” Abrahams said. “The general concern, of course, is that it’s going to exacerbate what is already a very fraught situation.”\n",
        "On Wednesday, a spokesman for Israeli Prime Minister Benjamin Netanyahu told CNN that babies and toddlers were found with their “heads decapitated” in southern Israel after Hamas’ attack. By Thursday morning, an Israeli official told CNN the government had not confirmed claims of the beheadings.\n",
        "A senior State Department official said Thursday morning that the agency was not in a position to confirm the beheading claims.\n",
        "Many of the reports appear to have originated from Israeli soldiers and people affiliated with the Israel Defense Force (IDF).\n",
        "An IDF spokesperson told Business Insider on Tuesday that soldiers had found decapitated babies, but said Wednesday it would not investigate or provide further evidence regarding the claim. Late Wednesday, an IDF spokesperson said in a video on X that the IDF had “relative confidence” of the claims.\n",
        "On Thursday, in a call with a group of international journalists, Colonel Golan Vach, the head of the IDF’s national search and rescue unit, said that he had “found one baby with his head cut.”\n",
        " Marc Owen Jones, an associate professor of Middle East studies at Hamad Bin Khalifa University in Qatar who studies misinformation, told NBC News that he found that the source of the “40 babies beheaded” allegations largely stemmed from a viral Israeli news broadcast clip that did not specifically refer to the allegation.\n",
        "Nicole Zedeck, a correspondent for the privately owned Israeli news outlet i24NEWS, said in the video that Israeli soldiers told her they’d found “babies, their heads cut off.” The video has been viewed more than 11 million times on X, according to its view counter. In another tweet, Zedeck wrote that soldiers told her they believe “40 babies/children were killed.”\n",
        "“Somehow those two bits of information were connected, the story became ‘40 babies were beheaded,’ and in the British press today, about six or seven newspapers had it on their front pages,” Jones said.\n",
        "An IDF spokesperson, Doron Spielman, told NBC News on Tuesday that he could not confirm i24NEWS’s report.\n",
        "Yossi Landau, the head of operations for the southern region of Zaka, Israel’s volunteer civilian emergency response organization, told CBS News that he saw the bodies of beheaded children and babies, parents and children who had been tortured and had their hands bound, and “a lot more that cannot be described for now, because it’s very hard to describe.”\n",
        "By Wednesday, the claims, though still contentious, were going viral online — being used as evidence of Hamas’ depravity. On Wednesday, the phrase “Did Hamas kill babies” saw the biggest increase in search interest on Google of anything related to the war.\n",
        "“Stranger Things” star Noah Schnapp posted the shocking claim to his 25 million Instagram followers: “40 babies were beheaded and burned alive in front of their parents by Hamas.” Sen. Ted Cruz, R-Texas, mentioned beheaded babies in a post on X, and Rep. Mike McCaul, R-Texas, echoed the allegations on CNN.\n",
        "Jones found that the “40 babies beheaded” claim had over 44 million impressions on X, with over 300,000 likes and more than 100,000 reposts. The main accounts propagating the claims were i24NEWS and the official Israel account, Jones’ data showed.\n",
        "\n",
        "“Baby stories are very emotive. Historically, they’re stories that can be used to rationalize a very brutal response,” Jones said. “It’s such a volatile information environment that such claims will inevitably be taken out of context, both deliberately and accidentally.”\"\"\"})"
      ]
    },
    {
      "cell_type": "code",
      "execution_count": null,
      "metadata": {
        "id": "6kTnXioJax2i"
      },
      "outputs": [],
      "source": [
        "articles.append({\n",
        "    \"Title\": \"Article2\",\n",
        "    \"Content\": \"\"\"The 'horrendous toll' on children caught in the Israel-Gaza conflict\n",
        "Hundreds of children have been killed so far, with the true total still unclear.\n",
        "The Israel-Hamas conflict is taking a \"horrendous toll\" on families, humanitarian organizations like UNICEF decried this week, amid reports of the slaughter and kidnapping of children and attacks on civilian infrastructure that have killed, injured or displaced the most vulnerable.\n",
        "In the days since Hamas' surprise assault on Israel, images from both regions have shown crying children running through the street and cowering in bomb shelters after airstrikes. In Gaza, the bodies of dead children killed in shelling were covered in blankets and carried by their fathers in funeral processions. In the kibbutz of Be'eri, one of the largest in Israel, more than 100 bodies of Israeli citizens were discovered on Monday, with women, children and the elderly \"brutally butchered,\" the Israel Defense Forces said. Israeli children have also been among those reported kidnapped by Hamas terrorists.\n",
        "\"Nothing justifies the killing, maiming or abducting of children -- grave rights violations which UNICEF wholeheartedly condemns. Yet less than 72 hours after the outbreak of horrific violence in Israel, reports indicate that grave rights violations against children are rampant,\" UNICEF Executive Director Catherine Russell said in a statement on Monday. \"Many children have been killed or injured, while countless others have been exposed to the violence.\"\n",
        "According to Palestinian authorities, 900 people have been killed in Gaza so far -- including 260 children and 230 women. The number of children killed in Israel is unclear; at least 900 people have died and 2,600 others have been injured, officials said, though did not specify how many were children. Prime Minister Benjamin Netanyahu said in a speech Monday that among the \"atrocities\" committed by Hamas, children have been \"executed with the rest of their families.\"\n",
        "In remarks at the White House Tuesday, President Joe Biden described \"Hamas' bloodthirstiness\" as reminiscent of ISIS rampages -- including \"stomach-churning reports of babies being killed.\"\n",
        "At least 100 civilians and soldiers have also been taken hostage by Hamas militants, Israeli officials said. Hamas leaders on Monday threatened to begin killing hostages one by one and filming the executions if their demands are not met.\n",
        "Among those abducted were 12- and 16-year-old brothers, their mother told ABC News. The woman, who asked not to be identified for security reasons, said the boys were abducted Saturday by Hamas militants who burst into a safe room at their father's home on a kibbutz near the Gaza border.\n",
        "\"I want the world to demand the release of those innocent civilians. I want these children and women and babies back home, and I want my children back home,\" the mother said. \"I can't take a shower without thinking of them being held hostage in some dirty pit somewhere. I can't eat, I can't sleep. I don't think human beings treat people like this. I'm sorry. I want the world to know, to demand those hostages to be returned to their homes.\"\n",
        "In response to the assault, Israel on Monday carried out a \"complete siege,\" cutting off power and blocking food and water from being delivered to the Gaza Strip -- where, according to the CIA, nearly 40% of the population of 2 million is under the age of 15.\n",
        "UNICEF is \"extremely alarmed\" about those measures, spokesperson James Elder said at a press briefing Tuesday in Geneva.\n",
        "\"This will add another layer of suffering to the existing catastrophe faced by families in Gaza,\" Elder said. \"Depriving children of access to food and essential services puts their lives at risk, as do attacks on civilian areas and infrastructure.\"\n",
        "According to UNICEF, 80% of those who live in the Gaza Strip rely on some form of humanitarian assistance.\n",
        "The conflict has led to \"grave humanitarian consequences,\" Lynn Hastings, a humanitarian coordinator for the Gaza Strip for the United Nations Office for the Coordination of Humanitarian Affairs, while calling for all parties to abide by international humanitarian law.\n",
        "\"Civilians, especially children, medical facilities, humanitarian personnel health workers, and journalists must be protected,\" Hastings said in a statement Tuesday. \"Captured civilians must be released immediately and unconditionally.\"\n",
        "UNICEF has also called on all parties to protect children from harm, in accordance with international humanitarian law.\n",
        "\"I remind all parties that in this war, as in all wars, it is children who suffer first and suffer most,\" Russell said.\"\"\"\n",
        "})"
      ]
    },
    {
      "cell_type": "code",
      "execution_count": null,
      "metadata": {
        "id": "QQz78W8Raybv"
      },
      "outputs": [],
      "source": [
        "articles.append({\n",
        "    \"Title\": \"Article3\",\n",
        "    \"Content\": \"\"\"What we actually know about the viral report of beheaded babies in Israel\n",
        "One journalist from the Tel Aviv-based news channel i24 said a soldier told her they had \"witnessed… bodies of babies with their heads cut off\" at the Kfar Aza kibbutz near the Gaza border - but no Israeli officials have confirmed the claim.\n",
        "Reports that Israeli soldiers discovered babies that had been beheaded in the Kfar Aza kibbutz are circulating on social and traditional media outlets around the world.\n",
        "The Israel Defence Forces (IDF) invited foreign journalists to see the aftermath of a massacre by Hamas militants at the kibbutz on Tuesday.\n",
        "Sky's chief correspondent Stuart Ramsay was among those to go and see \"stretcher-bearers bringing out a small child\" and a basketball court with \"bodies lined up in black body bags\".\n",
        "But in her TV reports, one journalist from the Tel Aviv-based news channel i24 said a soldier had told her they had \"witnessed… bodies of babies with their heads cut off\".\n",
        "In a statement to Sky News, the IDF said: \"We cannot confirm any numbers. What happened in Kibbutz Kfar Aza is a massacre in which women, children and toddlers and elderly were brutally butchered in an ISIS way of action.\"\n",
        "What happened at the kibbutz?\n",
        "The Kfar Aza kibbutz is one of several self-contained Israeli settlements close to the Gaza border.\n",
        "It is located between Netivot and Sderot - around three miles from the border in southern Israel.\n",
        "Because of its proximity to Gaza and the unprecedented nature of last weekend's incursion, which saw Hamas militants breach the usually heavily guarded border on foot - it was one of the first sites they reached on Saturday.\n",
        "Four days later, journalists got to see the destruction left behind.\n",
        "Ramsay said the scene \"can only be described as a massacre\".\n",
        "\"The stories here are shocking - families being woken without warning to voices outside their houses, mums and dads hiding their children in cupboards, wine cellars and basements, husbands and wives becoming separated in the fight,\" he said.\n",
        "He added it took 17 hours for help to arrive, as the IDF focused on urban areas first - leaving residents defenceless and numbers of dead high.\n",
        "Why are there reports of 'babies being beheaded'?\n",
        "Claims Hamas fighters beheaded babies have only been reported by one journalist - Nicole Zedek from i24 - and have not been verified by Sky News.\n",
        "Ms Zedek was among the reporters invited to see what was left at the kibbutz on Tuesday.\n",
        "In one live broadcast, which has since been viewed millions of times on X, formerly known as Twitter, she says: \"Talking to some of the soldiers here, they say what they witnessed as they've been walking through these communities is bodies of babies with their heads cut off and families gunned down in their beds.\n",
        "\"We can see some of these soldiers right now, comforting each other.\"\n",
        "She is also filmed speaking to the deputy commander of the IDF's unit 71, David Ben Zion, who describes Hamas fighters as \"aggressive\" and \"very bad\".\n",
        "He says: \"They cut off heads… of children, of women.\"\n",
        "And in another live broadcast, Zedek describes \"40 babies at least were taken out on gurneys\" - which is where the widely shared 40 figure comes from.\n",
        "In an interview with Sky's Mark Austin on Tuesday evening, Israeli economy minister Nir Barkat echoed a similar claim: \"We've seen just now... we've heard of 40 young boys. Some of them were burned alive. Some were beheaded. Some were shot in the head.\"\n",
        "CBS News in the US said on Wednesday that Yossi Landau, head of operations at Zaka, Israel's volunteer civilian emergency response organisation, confirmed to them he had \"personally seen\" adults, children and babies beheaded.\n",
        "But when asked directly whether \"40 babies were beheaded\", an IDF spokesman said children were killed - but that reports of beheadings were \"unconfirmed\".\n",
        "It was later reported by at least one major TV news network that the reports of babies being beheaded had been \"confirmed\" by a spokesperson for the Israeli prime minister's office.\n",
        "This was subsequently attributed to Tal Heinrich, a freelance news anchor who appears to have been drafted in by Benjamin Netanyahu's office on 8 October to assist with media relations in the wake of Hamas's attacks a day earlier.\n",
        "The only available public statement on the matter from Ms Heinrich at the time of writing was an interview she conducted with LBC on Wednesday, in which she was asked about the claims.\n",
        "Ms Heinrich, who was quoted by LBC as a spokesperson for Mr Netanyahu's office, said: \"Toddlers, babies, I can tell you some of them... yes, heads were cut off. This is what we are hearing from... soldiers on the ground who dealt with the bodies.\"\n",
        "Replying to a later post on X linking to a story citing her comments, she said on Wednesday evening: \"Please note: We said that these reports are based on testimonies of soldiers.\"\n",
        "'Important to separate facts from speculation'\n",
        "Ramsay interviewed two IDF majors - one of whom was a spokesman.\n",
        "Ramsay said: \"At no point did either he, or the other major I spoke to, ever mention that Hamas had beheaded or killed 40 babies or children. I believe that if it were the case, they would have told me and others there.\n",
        "\"There is no doubt that a horrific attack took place at Kfar Aza, and it needed to be reported, and we did see the bodies of the dead from the community in their houses, in the back of a truck, and on the basketball court.\n",
        "\"But it's important to separate the facts from speculation in a situation like this.\n",
        "\"To reiterate - the IDF had every opportunity to inform the world's media of any story that had become apparent as the military continue to clear up the kibbutz. The murder and beheading of 40 children was never mentioned to me or my team.\"\n",
        "And another journalist, Oren Ziv, who works for independent news outlet 972 mag, was also present and given the opportunity to speak to \"hundreds of soldiers on site\".\n",
        "In a post on X, he said of the baby claims: \"During the tour we didn't see any evidence of this, and the army spokesperson or commanders also didn't mention any such incidents.\"\n",
        "Footage shows how Hamas fighters broke into the kibbutz\n",
        "Adding to the confusion, the White House was forced into a remarkable climbdown on Wednesday night after President Joe Biden appeared to confirm he had seen pictures of children being beheaded in the Hamas attack.\n",
        "In a speech to a Jewish community gathering in Washington, which was televised live, he said: \"I never really thought that I would see, have confirmed, pictures of terrorists beheading children, I never thought I would ever, anyway...\"\n",
        "However, after Sky News' US partner NBC approached the White House for further details on President Biden's remarks, two senior administration officials said Mr Biden was only referring to several media reports from Israel about beheaded children and had not seen images or had independent confirmation of child beheadings.\n",
        "He had not in fact seen any images or had independent confirmation of child beheadings.\n",
        "Digital investigations journalist Victoria Elms, who works on Sky's Data and Forensics unit, adds: \"Social media has been awash with misinformation about the situation in Israel and Gaza since the war broke out.\n",
        "\"Videos from the Syrian conflict, excerpts from video games and TikToks made months ago have all been widely shared, falsely claiming to show events from the past few days.\"\n",
        "She says misinformation is often shared \"unintentionally\", but \"there are some who post and share false material with the intent to deceive others\".\n",
        "\"This is especially dangerous during times of conflict, where it may be even harder than usual to independently verify information or footage,\" she says.\n",
        "\"As the conflict draws on, we would urge users to be vigilant when consuming online content related to the war.\"\"\",\n",
        "})"
      ]
    },
    {
      "cell_type": "code",
      "execution_count": null,
      "metadata": {
        "id": "o6Eh3keZay5t"
      },
      "outputs": [],
      "source": [
        "articles.append({\n",
        "    \"Title\": \"Article4\",\n",
        "    \"Content\": \"\"\"Israel releases horrific images of slain children after Hamas attack\n",
        "JERUSALEM / TEL AVIV / BRUSSELS - CONTENT WARNING: This story contains graphic details that may not be suitable for all audiences. Reader discretion is advised.\n",
        "Israel's government showed U.S. Secretary of State Antony Blinken and NATO defence ministers graphic images of dead children and civilians on Thursday, saying they were killed by Palestinian group Hamas as it builds support for its response.\n",
        "Prime Minister Benjamin Netanyahu's office also released on social media a picture of a dead infant in a pool of blood and the charred body of a child, part of an apparent effort to stoke global anger against the Gaza militants over Saturday's attack.\n",
        "Blinken, who flew into Tel Aviv earlier on Thursday, told reporters he was shown photographs and videos of a baby riddled with bullets, soldiers beheaded and young people burned alive in their cars or hideaways.\n",
        "\"It's simply depravity in the worst imaginable way,\" Blinken told a news briefing. \"Images are worth a thousand words. These images may be worth a million.\"\n",
        "Netanyahu has vowed to annihilate Hamas following its deadly assault on unsuspecting Israeli communities on Saturday, which killed more than 1,300 people, the deadliest attack on Israel since it was founded in 1948.\n",
        "The Israeli airforce has launched intense bombing raids on Gaza over the past five days and is massing tens of thousands of troops along the border ahead of a possible ground invasion.\n",
        "Gaza authorities said more than 1,400 Palestinians, mainly civilians, including children, have already been killed and more than 6,000 wounded. A land invasion in the densely populated territory could send the toll much higher.\n",
        "Israeli Defence Minister Yoav Gallant played a video to his counterparts at NATO's Brussels headquarters that he said showed horrific scenes from the surprise Hamas attack.\n",
        "\"Children were tied up and shot. Yes, I repeat, children, tied up and shot,\" he told fellow ministers by video link according to a text of his address sent to Reuters.\n",
        "'HORRIFIC PICTURES'\n",
        "In a message on the social media site 'X', Netanyahu's office released what it said were \"horrifying photos of babies murdered and burned by the Hamas monsters.\"\n",
        "It added: \"Hamas is inhuman. Hamas is ISIS,\" comparing the Palestinian group to the Islamic State, which was notorious for its brutality and gory execution videos.\n",
        "The images of the dead infants were included in the video played to NATO. It was not released to the public, but was later seen by Reuters in Jerusalem. Reuters could not independently verify the material.\n",
        "\"They were horrific pictures of the attacks and the victims of the attacks,\" NATO Secretary General Jens Stoltenberg told reporters, saying it \"confirmed the brutality of the attacks.\"\n",
        "The White House said it had no reason to doubt the authenticity of the images.\n",
        "Hamas has denied its militants harmed civilians, accusing Israel and the West of spreading false reports to incite violence against Palestinians.\n",
        "Deputy Hamas chief, Saleh Al-Arouri, said the group's fighters had only aimed to attack the Israeli military and had been surprised by the swift collapse of army units. \"The plan was to target the army's Gaza team and fight occupation soldiers only,\" Arouri said in quotes published by Hamas.\n",
        "The video shown to NATO, apparently taken from a mix of social media published by Hamas and unidentified phone videos, showed the bodies of scores of dead civilians, as well as the body of an Israeli soldier in uniform with his head missing.\n",
        "There were no images to suggest militants had beheaded babies -- a particularly explosive accusation that first emerged in Israel's media and initially confirmed by Israeli officials.\n",
        "U.S. President Joseph Biden had suggested on Wednesday that he had seen images of children beheaded by militants. The White House later clarified that U.S. officials had not seen any evidence of this.\n",
        "Netanyahu has not repeated a claim by his office earlier this week that Hamas had indeed cut off the heads of children, nor did Gallant repeat that accusation to NATO ministers.\n",
        "But medics, international human rights organizations and journalists have documented that militants killed women, children and the elderly as well as young men and soldiers in their rampage.\n",
        "Foreign reporters shown sites targeted by Hamas, witnessed ruins of burnt-out houses and streets scattered with dead residents and militants.\n",
        "NATO officials said they did not expect the alliance to be directly involved in the conflict. But multiple NATO states, above all the United States, have offered Israel military aid.\n",
        "U.S. Defense Secretary Lloyd Austin said after the NATO meeting on Thursday that Washington was not placing any conditions on its security assistance to Israel and expected Israel's professional military to 'do the right things.'\"\"\"\n",
        "})"
      ]
    },
    {
      "cell_type": "code",
      "execution_count": null,
      "metadata": {
        "id": "NiuKQfKiazfe"
      },
      "outputs": [],
      "source": [
        "articles.append({\n",
        "    \"Title\": \"Article5\",\n",
        "    \"Content\": \"\"\"‘I would see and have confirmed pictures of terrorists beheading children,’ Joe Biden decries Hamas atrocity in Israel\n",
        "Reports suggest up to 40 babies slaughtered by Hamas near Gaza Strip. US President Joe Biden expresses horror at beheading of children by terrorists in Israel.\n",
        "Biden spoke to Jewish leaders at the White House on Wednesday and said, “I never really thought that I would see and have confirmed pictures of terrorists beheading children. I never thought I’d ever — anyway.” He did not take any questions from the reporters, but said he was working to bring home the Americans who were captured by Hamas and taken to Gaza.\n",
        "We're now on WhatsApp. Click to join.\n",
        "“I haven’t given up hope of bringing these folks home,” he said.\n",
        "“If I told you, I wouldn’t be able to get them home.”\n",
        "ALSO READ| Why Steve Scalise hasn't assumed the role of house speaker for Republicans yet?\n",
        "According to reports, up to 40 babies were slaughtered in their homes near the Gaza Strip, which is controlled by Hamas.\n",
        "While a senior White House national security aide stated they hadn't viewed the mentioned images, another White House official cited remarks made by Tal Heinrich, a spokesperson for Israeli Prime Minister Benjamin Netanyahu.\n",
        "On Wednesday, Heinrich quoted CNN that infants and young children had been discovered with \"decapitated\" bodies in the community of Kfar Aza.\n",
        "An Israeli Defense Forces spokesperson also told The Intercept that they could not confirm it officially, but they believed the report.\n",
        "Yossi Landau, a representative from Israel's volunteer civilian emergency response organization, Zaka, shared with CBS News that he witnessed the gruesome sight of children and infants who had been decapitated.\n",
        "“I saw a lot more that cannot be described for now, because it’s very hard to describe,” he said.\n",
        "Nicole Zedek, a television reporter for i24NEWS based in Tel Aviv, was the initial source to report the allegations of child beheadings on Tuesday. In a radio interview on Wednesday, she expressed her dismay at the initial public skepticism.\n",
        "She stated, “I mean, babies’ heads cut off. That’s what they encountered when they came there. So as horrible as it is and and I wish that I it wasn’t true.”\n",
        "The IDF also shared a disturbing image online on Wednesday that showed a blood-stained mattress of an Israeli child with blood spatter on the wall and the footboard.\n",
        "Since Hamas' shocking attack on Israel, the US President has refrained from taking press questions in various settings. He is encountering mounting pressure from members of both parties in Congress to reconsider his decision to release $6 billion to Iran, amid reports that the funds may have been connected to the planning of the attack.\"\"\"\n",
        "})"
      ]
    },
    {
      "cell_type": "code",
      "execution_count": null,
      "metadata": {
        "id": "hB4AoV5Xa0IZ"
      },
      "outputs": [],
      "source": [
        "articles.append({\n",
        "    \"Title\": \"Article6\",\n",
        "    \"Content\": \"\"\"At least 40 babies killed, beheaded in Israeli kibbutz outside Gaza Strip, reports say\n",
        "KFAR AZA, Israel (TND) — Dozens of babies were reportedly found dead, including some that had been beheaded, in an Israeli kibbutz Tuesday after the terrorist organization Hamas stormed the community.\n",
        "Several journalists were let in to the Kfar Aza kibbutz, located just outside the Gaza Strip, to see the aftermath of the attacks by Hamas. At least 70 residents of the kibbutz were killed by Hamas terrorists, according to Indian news website OpIndia.\n",
        "Nicole Zedeck, a correspondent for Israeli television channel i24NEWS, described the scene as \"truly horrific.\"\n",
        "\"No one could expect that it would be like this, the horrors that I'm hearing from these soldiers,\" Zedeck said. \"As I mentioned earlier, about 40 babies, at least, were taken out on gurneys ... you continue to see just cribs overturned, strollers left behind, all of these doors left wide open.\"\n",
        "Several of the infants were also beheaded by Hamas terrorists, according to OpIndia.\n",
        "Zedeck went on to say that an official death count at the kibbutz is still unknown because soldiers are \"still collecting dead bodies.\"\n",
        "A kibbutz is a small Israeli agricultural community. Kibbutz are dotted throughout Israel, primarily in the Negev Desert.\n",
        "Israel Defense Forces Major General Itai Veruv described the scene in Kfar Aza as a \"massacre\" Tuesday, calling it unlike something Israel has witnessed in \"recent history.\"\n",
        "“It’s not a war, it’s not a battlefield, it’s a massacre,” Veruv told The Times of Israel. “You see the babies, their mothers and their fathers, in their bedrooms, and in their protected rooms, and how the terrorists killed them ... It's something that I never saw in my life.\"\n",
        "The murders at Kfar Aza represent just a fraction of the death and destruction caused by Hamas terrorists. Videos reviewed Monday afternoon show that at least four Israeli citizens were killed shortly after being taken hostage by the terrorist group.\n",
        "An Israeli family of five was reportedly killed by Hamas terrorists during the invasion. The family, which included three children under 7, was discovered dead after the terrorist group infiltrated their bunker.\n",
        "American families have begun to plead with the Biden administration for assistance finding their missing loved ones in Israel. At least 11 U.S. citizens were determined to have been killed in Israel as of Monday.\"\"\"\n",
        "})"
      ]
    },
    {
      "cell_type": "code",
      "execution_count": null,
      "metadata": {
        "id": "90iiB2Uua0xz"
      },
      "outputs": [],
      "source": [
        "articles.append({\n",
        "    \"Title\": \"Article7\",\n",
        "    \"Content\": \"\"\"‘I would see and have confirmed pictures of terrorists beheading children,’ Joe Biden decries Hamas atrocity in Israel\n",
        "Reports suggest up to 40 babies slaughtered by Hamas near Gaza Strip. US President Joe Biden expresses horror at beheading of children by terrorists in Israel.\n",
        "Biden spoke to Jewish leaders at the White House on Wednesday and said, “I never really thought that I would see and have confirmed pictures of terrorists beheading children. I never thought I’d ever — anyway.” He did not take any questions from the reporters, but said he was working to bring home the Americans who were captured by Hamas and taken to Gaza.\n",
        "“I haven’t given up hope of bringing these folks home,” he said.\n",
        "“If I told you, I wouldn’t be able to get them home.”\n",
        "According to reports, up to 40 babies were slaughtered in their homes near the Gaza Strip, which is controlled by Hamas.\n",
        "While a senior White House national security aide stated they hadn't viewed the mentioned images, another White House official cited remarks made by Tal Heinrich, a spokesperson for Israeli Prime Minister Benjamin Netanyahu.\n",
        "On Wednesday, Heinrich quoted CNN that infants and young children had been discovered with \"decapitated\" bodies in the community of Kfar Aza.\n",
        "An Israeli Defense Forces spokesperson also told The Intercept that they could not confirm it officially, but they believed the report.\n",
        "Yossi Landau, a representative from Israel's volunteer civilian emergency response organization, Zaka, shared with CBS News that he witnessed the gruesome sight of children and infants who had been decapitated.\n",
        "“I saw a lot more that cannot be described for now, because it’s very hard to describe,” he said.\n",
        "Nicole Zedek, a television reporter for i24NEWS based in Tel Aviv, was the initial source to report the allegations of child beheadings on Tuesday. In a radio interview on Wednesday, she expressed her dismay at the initial public skepticism.\n",
        "She stated, “I mean, babies’ heads cut off. That’s what they encountered when they came there. So as horrible as it is and and I wish that I it wasn’t true.”\n",
        "The IDF also shared a disturbing image online on Wednesday that showed a blood-stained mattress of an Israeli child with blood spatter on the wall and the footboard.\n",
        "Since Hamas' shocking attack on Israel, the US President has refrained from taking press questions in various settings. He is encountering mounting pressure from members of both parties in Congress to reconsider his decision to release $6 billion to Iran, amid reports that the funds may have been connected to the planning of the attack.\"\"\",\n",
        "})"
      ]
    },
    {
      "cell_type": "code",
      "execution_count": null,
      "metadata": {
        "colab": {
          "base_uri": "https://localhost:8080/"
        },
        "id": "PQjJ6j8ca1UY",
        "outputId": "b4b24770-b74d-4c8b-bf6c-37144b77e2f5"
      },
      "outputs": [
        {
          "data": {
            "text/plain": [
              "{'Title': 'Article1',\n",
              " 'Content': 'Unverified reports of ‘40 babies beheaded’ in Israel-Hamas war inflame social media\\nNo photo evidence had been made public as of Thursday morning corroborating claims that babies had been beheaded. Israel has published photos of dead infants after the terror attack.\\nEditor’s note: This story includes graphic descriptions of violent acts that some readers may find disturbing.\\nA series of shocking reports have spread horrific claims of baby beheadings by Hamas militants across social and mainstream media in recent days, adding a particularly incendiary element to an already violent and bitter war. But the reports are still unconfirmed, and in some cases have been retracted.\\xa0\\nThe most high-profile claim came Wednesday night when President Joe Biden said that he had seen photographic evidence of terrorists beheading children. The White House later clarified that Biden was referring to news reports about beheadings, which have not included or referred to photographic evidence.\\nPhotos have been published by Hamas showing beheaded soldiers and the X account belonging to Israeli Prime Minister Benjamin Netanyahu posted pictures on Thursday of babies killed and burned by Hamas. No photo evidence had been made public as of Thursday morning corroborating claims that babies had been beheaded.\\xa0\\nUnverified information spreads quickly on social media, particularly around breaking news events, reaching even larger audiences when it is shared by mainstream news outlets, politicians and people with large followings. Follow-ups that retract or add context are less likely to be repeated or reach the same audience.\\nBiden’s statement followed a series of news reports and comments from Israeli officials, most of which have since been softened or walked back. Easily debunked misinformation like\\xa0fake press releases\\xa0have circulated widely since the start of the war, but such stories often die down quickly once proven false. The claims about beheadings, difficult to verify, have continued to spread thanks in part to the lack of clarity.\\nAlexei Abrahams, a disinformation researcher at McGill University in Montreal, said that even without the allegations of beheaded babies, “just the facts themselves are horrifying enough to have the kind of effect you expect.”\\xa0\\n“It may turn out that the slaughter was done in a particularly barbaric way. But one way or another, this is an absolutely shocking, unprecedented event of violence,” Abrahams said. “The general concern, of course, is that it’s going to exacerbate what is already a very fraught situation.”\\nOn Wednesday, a spokesman for Israeli Prime Minister Benjamin Netanyahu told CNN that babies and toddlers were found with their “heads decapitated” in southern Israel after Hamas’ attack. By Thursday morning, an Israeli official\\xa0told CNN\\xa0the government had not confirmed claims of the beheadings.\\nA senior State Department official said Thursday morning that the agency was not in a position to confirm the beheading claims.\\nMany of the reports appear to have originated from\\xa0Israeli soldiers\\xa0and people affiliated with the Israel Defense Force (IDF).\\nAn IDF spokesperson told Business Insider on Tuesday that soldiers had found decapitated babies, but said Wednesday it\\xa0would not investigate\\xa0or provide further evidence regarding the claim. Late Wednesday, an IDF spokesperson\\xa0said in a video on X\\xa0that the IDF had “relative confidence” of the claims.\\nOn Thursday, in a call with a group of international journalists, Colonel Golan Vach, the head of the IDF’s national search and rescue unit, said that he had “found one baby with his head cut.”\\xa0\\n\\xa0Marc Owen Jones, an associate professor of Middle East studies at Hamad Bin Khalifa University in Qatar who studies misinformation, told NBC News that he found that the source of the “40 babies beheaded” allegations largely stemmed from a viral Israeli\\xa0news broadcast clip\\xa0that did not specifically refer to the allegation.\\xa0\\nNicole Zedeck, a correspondent for\\xa0the privately owned Israeli news outlet i24NEWS, said in the video that Israeli soldiers told her they’d found “babies, their heads cut off.” The video has been viewed more than 11 million times on X, according to its view counter. In another tweet, Zedeck wrote that soldiers told her they believe “40 babies/children were killed.”\\n“Somehow those two bits of information were connected, the story became ‘40 babies were beheaded,’ and in the British press today, about six or seven newspapers had it on their front pages,” Jones said.\\nAn IDF spokesperson, Doron Spielman, told NBC News on Tuesday that he could not confirm i24NEWS’s report.\\nYossi Landau, the head of operations for the southern region of Zaka, Israel’s volunteer civilian emergency response organization,\\xa0told CBS News\\xa0that he saw\\xa0the bodies of beheaded children and babies, parents and children who had been tortured and had their hands bound, and “a lot more that cannot be described for now, because it’s very hard to describe.”\\nBy Wednesday, the claims, though still contentious, were going viral online — being used as evidence of Hamas’ depravity. On Wednesday, the phrase “Did Hamas kill babies” saw the biggest increase in search interest on Google of anything related to the war.\\n“Stranger Things” star Noah Schnapp\\xa0posted\\xa0the shocking claim to his 25 million Instagram followers: “40 babies were beheaded and burned alive in front of their parents by Hamas.” Sen. Ted Cruz, R-Texas, mentioned beheaded babies in\\xa0a post on X, and Rep. Mike McCaul, R-Texas, echoed the allegations on CNN.\\nJones found that the “40 babies beheaded” claim had\\xa0over 44 million impressions\\xa0on X, with over 300,000 likes and more than 100,000 reposts. The main accounts propagating the claims were i24NEWS and the official Israel account, Jones’ data showed.\\xa0\\n\\n“Baby stories are very emotive. Historically, they’re stories that can be used to rationalize a very brutal response,” Jones said. “It’s such a volatile information environment that such claims will inevitably be taken out of context, both deliberately and accidentally.”'}"
            ]
          },
          "execution_count": 10,
          "metadata": {},
          "output_type": "execute_result"
        }
      ],
      "source": [
        "articles[0]"
      ]
    },
    {
      "cell_type": "code",
      "execution_count": null,
      "metadata": {
        "id": "OresoXQcejwt"
      },
      "outputs": [],
      "source": [
        "df = pd.DataFrame(articles)"
      ]
    },
    {
      "cell_type": "code",
      "execution_count": null,
      "metadata": {
        "colab": {
          "base_uri": "https://localhost:8080/"
        },
        "id": "5UX63bCtemvB",
        "outputId": "b66fa43d-cfcf-406b-9681-a6d2d9956ed5"
      },
      "outputs": [
        {
          "name": "stdout",
          "output_type": "stream",
          "text": [
            "      Title                                            Content\n",
            "0  Article1  Unverified reports of ‘40 babies beheaded’ in ...\n",
            "1  Article2  The 'horrendous toll' on children caught in th...\n",
            "2  Article3  What we actually know about the viral report o...\n",
            "3  Article4  Israel releases horrific images of slain child...\n",
            "4  Article5  ‘I would see and have confirmed pictures of te...\n",
            "5  Article6  At least 40 babies killed, beheaded in Israeli...\n",
            "6  Article7  ‘I would see and have confirmed pictures of te...\n"
          ]
        }
      ],
      "source": [
        "print(df)"
      ]
    },
    {
      "cell_type": "markdown",
      "metadata": {},
      "source": [
        "### Summerization"
      ]
    },
    {
      "cell_type": "code",
      "execution_count": null,
      "metadata": {
        "id": "Y6mqaHxGiiWl"
      },
      "outputs": [],
      "source": [
        "from sklearn.feature_extraction.text import TfidfVectorizer"
      ]
    },
    {
      "cell_type": "code",
      "execution_count": null,
      "metadata": {
        "id": "nO3Iel3fhMHn"
      },
      "outputs": [],
      "source": [
        "# Instantiate the vectorizer with stop_words set to 'english'\n",
        "tfidf_vectorizer = TfidfVectorizer(stop_words='english')"
      ]
    },
    {
      "cell_type": "code",
      "execution_count": null,
      "metadata": {
        "id": "QrSkDX3jihxV"
      },
      "outputs": [],
      "source": [
        "# Compute the TF-IDF vectors for the articles\n",
        "tfidf_matrix = tfidf_vectorizer.fit_transform(df['Content'])"
      ]
    },
    {
      "cell_type": "code",
      "execution_count": null,
      "metadata": {
        "id": "H21rIRFtioy1"
      },
      "outputs": [],
      "source": [
        "from sklearn.metrics.pairwise import linear_kernel\n",
        "cosine_similarities = linear_kernel(tfidf_matrix, tfidf_matrix)"
      ]
    },
    {
      "cell_type": "code",
      "execution_count": null,
      "metadata": {
        "colab": {
          "base_uri": "https://localhost:8080/"
        },
        "id": "6EG-btLni43O",
        "outputId": "93dcb274-0bce-4fc1-e155-828131832373"
      },
      "outputs": [
        {
          "name": "stdout",
          "output_type": "stream",
          "text": [
            "[[1.         0.14483033 0.39585    0.2582229  0.26818106 0.20422504\n",
            "  0.27895569]\n",
            " [0.14483033 1.         0.22168557 0.24798395 0.2299564  0.21169182\n",
            "  0.23901851]\n",
            " [0.39585    0.22168557 1.         0.28336111 0.30100884 0.31592353\n",
            "  0.31263709]\n",
            " [0.2582229  0.24798395 0.28336111 1.         0.20396822 0.18262805\n",
            "  0.21117037]\n",
            " [0.26818106 0.2299564  0.30100884 0.20396822 1.         0.18920684\n",
            "  0.96356329]\n",
            " [0.20422504 0.21169182 0.31592353 0.18262805 0.18920684 1.\n",
            "  0.1972829 ]\n",
            " [0.27895569 0.23901851 0.31263709 0.21117037 0.96356329 0.1972829\n",
            "  1.        ]]\n"
          ]
        }
      ],
      "source": [
        "print(cosine_similarities)"
      ]
    },
    {
      "cell_type": "code",
      "execution_count": null,
      "metadata": {
        "colab": {
          "base_uri": "https://localhost:8080/"
        },
        "id": "PoHnParwi8UT",
        "outputId": "dc829a99-78e0-4de6-b880-57b4b2e57a73"
      },
      "outputs": [
        {
          "name": "stdout",
          "output_type": "stream",
          "text": [
            "      Title                                            Summary\n",
            "0  Article1  In another tweet, Zedeck wrote that soldiers t...\n",
            "1  Article2  \"Depriving children of access to food and esse...\n",
            "2  Article3  What happened in Kibbutz Kfar Aza is a massacr...\n",
            "3  Article4  Secretary of State Antony Blinken and NATO def...\n",
            "4  Article5  I never thought I’d ever — anyway.” He did not...\n",
            "5  Article6  At least 40 babies killed, beheaded in Israeli...\n",
            "6  Article7  I never thought I’d ever — anyway.” He did not...\n"
          ]
        }
      ],
      "source": [
        "# Extract the most representative sentence from each article\n",
        "summaries = []\n",
        "for idx, article in enumerate(df['Content']):\n",
        "    # Tokenize the article into sentences\n",
        "    sentences = article.split('. ')\n",
        "\n",
        "    # Compute the TF-IDF vectors for the sentences\n",
        "    sentence_vectors = tfidf_vectorizer.transform(sentences)\n",
        "\n",
        "    # Compute cosine similarities between the article and its sentences\n",
        "    cosine_similarities_sentences = linear_kernel(tfidf_matrix[idx:idx+1], sentence_vectors).flatten()\n",
        "\n",
        "    # Find the sentence with the highest cosine similarity\n",
        "    top_sentence_idx = cosine_similarities_sentences.argsort()[-1]\n",
        "    top_sentence = sentences[top_sentence_idx]\n",
        "\n",
        "    summaries.append(top_sentence)\n",
        "\n",
        "# Add summaries to the dataframe\n",
        "df['Summary'] = summaries\n",
        "print(df[['Title', 'Summary']])"
      ]
    },
    {
      "cell_type": "code",
      "execution_count": null,
      "metadata": {
        "colab": {
          "base_uri": "https://localhost:8080/"
        },
        "id": "578zywbyjF-i",
        "outputId": "102b5db0-93bf-462b-a856-61cdd702fdeb"
      },
      "outputs": [
        {
          "name": "stdout",
          "output_type": "stream",
          "text": [
            "Merged Summary:\n",
            "In another tweet, Zedeck wrote that soldiers told her they believe “40 babies/children were killed.”\n",
            "“Somehow those two bits of information were connected, the story became ‘40 babies were beheaded,’ and in the British press today, about six or seven newspapers had it on their front pages,” Jones said.\n",
            "An IDF spokesperson, Doron Spielman, told NBC News on Tuesday that he could not confirm i24NEWS’s report.\n",
            "Yossi Landau, the head of operations for the southern region of Zaka, Israel’s volunteer civilian emergency response organization, told CBS News that he saw the bodies of beheaded children and babies, parents and children who had been tortured and had their hands bound, and “a lot more that cannot be described for now, because it’s very hard to describe.”\n",
            "By Wednesday, the claims, though still contentious, were going viral online — being used as evidence of Hamas’ depravity. \"Depriving children of access to food and essential services puts their lives at risk, as do attacks on civilian areas and infrastructure.\"\n",
            "According to UNICEF, 80% of those who live in the Gaza Strip rely on some form of humanitarian assistance.\n",
            "The conflict has led to \"grave humanitarian consequences,\" Lynn Hastings, a humanitarian coordinator for the Gaza Strip for the United Nations Office for the Coordination of Humanitarian Affairs, while calling for all parties to abide by international humanitarian law.\n",
            "\"Civilians, especially children, medical facilities, humanitarian personnel health workers, and journalists must be protected,\" Hastings said in a statement Tuesday. What happened in Kibbutz Kfar Aza is a massacre in which women, children and toddlers and elderly were brutally butchered in an ISIS way of action.\"\n",
            "What happened at the kibbutz?\n",
            "The Kfar Aza kibbutz is one of several self-contained Israeli settlements close to the Gaza border.\n",
            "It is located between Netivot and Sderot - around three miles from the border in southern Israel.\n",
            "Because of its proximity to Gaza and the unprecedented nature of last weekend's incursion, which saw Hamas militants breach the usually heavily guarded border on foot - it was one of the first sites they reached on Saturday.\n",
            "Four days later, journalists got to see the destruction left behind.\n",
            "Ramsay said the scene \"can only be described as a massacre\".\n",
            "\"The stories here are shocking - families being woken without warning to voices outside their houses, mums and dads hiding their children in cupboards, wine cellars and basements, husbands and wives becoming separated in the fight,\" he said.\n",
            "He added it took 17 hours for help to arrive, as the IDF focused on urban areas first - leaving residents defenceless and numbers of dead high.\n",
            "Why are there reports of 'babies being beheaded'?\n",
            "Claims Hamas fighters beheaded babies have only been reported by one journalist - Nicole Zedek from i24 - and have not been verified by Sky News.\n",
            "Ms Zedek was among the reporters invited to see what was left at the kibbutz on Tuesday.\n",
            "In one live broadcast, which has since been viewed millions of times on X, formerly known as Twitter, she says: \"Talking to some of the soldiers here, they say what they witnessed as they've been walking through these communities is bodies of babies with their heads cut off and families gunned down in their beds.\n",
            "\"We can see some of these soldiers right now, comforting each other.\"\n",
            "She is also filmed speaking to the deputy commander of the IDF's unit 71, David Ben Zion, who describes Hamas fighters as \"aggressive\" and \"very bad\".\n",
            "He says: \"They cut off heads… of children, of women.\"\n",
            "And in another live broadcast, Zedek describes \"40 babies at least were taken out on gurneys\" - which is where the widely shared 40 figure comes from.\n",
            "In an interview with Sky's Mark Austin on Tuesday evening, Israeli economy minister Nir Barkat echoed a similar claim: \"We've seen just now... Secretary of State Antony Blinken and NATO defence ministers graphic images of dead children and civilians on Thursday, saying they were killed by Palestinian group Hamas as it builds support for its response.\n",
            "Prime Minister Benjamin Netanyahu's office also released on social media a picture of a dead infant in a pool of blood and the charred body of a child, part of an apparent effort to stoke global anger against the Gaza militants over Saturday's attack.\n",
            "Blinken, who flew into Tel Aviv earlier on Thursday, told reporters he was shown photographs and videos of a baby riddled with bullets, soldiers beheaded and young people burned alive in their cars or hideaways.\n",
            "\"It's simply depravity in the worst imaginable way,\" Blinken told a news briefing. I never thought I’d ever — anyway.” He did not take any questions from the reporters, but said he was working to bring home the Americans who were captured by Hamas and taken to Gaza.\n",
            "We're now on WhatsApp. Click to join.\n",
            "“I haven’t given up hope of bringing these folks home,” he said.\n",
            "“If I told you, I wouldn’t be able to get them home.”\n",
            "ALSO READ| Why Steve Scalise hasn't assumed the role of house speaker for Republicans yet?\n",
            "According to reports, up to 40 babies were slaughtered in their homes near the Gaza Strip, which is controlled by Hamas.\n",
            "While a senior White House national security aide stated they hadn't viewed the mentioned images, another White House official cited remarks made by Tal Heinrich, a spokesperson for Israeli Prime Minister Benjamin Netanyahu.\n",
            "On Wednesday, Heinrich quoted CNN that infants and young children had been discovered with \"decapitated\" bodies in the community of Kfar Aza.\n",
            "An Israeli Defense Forces spokesperson also told The Intercept that they could not confirm it officially, but they believed the report.\n",
            "Yossi Landau, a representative from Israel's volunteer civilian emergency response organization, Zaka, shared with CBS News that he witnessed the gruesome sight of children and infants who had been decapitated.\n",
            "“I saw a lot more that cannot be described for now, because it’s very hard to describe,” he said.\n",
            "Nicole Zedek, a television reporter for i24NEWS based in Tel Aviv, was the initial source to report the allegations of child beheadings on Tuesday. At least 40 babies killed, beheaded in Israeli kibbutz outside Gaza Strip, reports say\n",
            "KFAR AZA, Israel (TND) — Dozens of babies were reportedly found dead, including some that had been beheaded, in an Israeli kibbutz Tuesday after the terrorist organization Hamas stormed the community.\n",
            "Several journalists were let in to the Kfar Aza kibbutz, located just outside the Gaza Strip, to see the aftermath of the attacks by Hamas. I never thought I’d ever — anyway.” He did not take any questions from the reporters, but said he was working to bring home the Americans who were captured by Hamas and taken to Gaza.\n",
            "“I haven’t given up hope of bringing these folks home,” he said.\n",
            "“If I told you, I wouldn’t be able to get them home.”\n",
            "According to reports, up to 40 babies were slaughtered in their homes near the Gaza Strip, which is controlled by Hamas.\n",
            "While a senior White House national security aide stated they hadn't viewed the mentioned images, another White House official cited remarks made by Tal Heinrich, a spokesperson for Israeli Prime Minister Benjamin Netanyahu.\n",
            "On Wednesday, Heinrich quoted CNN that infants and young children had been discovered with \"decapitated\" bodies in the community of Kfar Aza.\n",
            "An Israeli Defense Forces spokesperson also told The Intercept that they could not confirm it officially, but they believed the report.\n",
            "Yossi Landau, a representative from Israel's volunteer civilian emergency response organization, Zaka, shared with CBS News that he witnessed the gruesome sight of children and infants who had been decapitated.\n",
            "“I saw a lot more that cannot be described for now, because it’s very hard to describe,” he said.\n",
            "Nicole Zedek, a television reporter for i24NEWS based in Tel Aviv, was the initial source to report the allegations of child beheadings on Tuesday\n"
          ]
        }
      ],
      "source": [
        "# Extract the most representative sentence from each article (as we did before)\n",
        "summaries = []\n",
        "for idx, article in enumerate(df['Content']):\n",
        "    sentences = article.split('. ')\n",
        "    sentence_vectors = tfidf_vectorizer.transform(sentences)\n",
        "    cosine_similarities_sentences = linear_kernel(tfidf_matrix[idx:idx+1], sentence_vectors).flatten()\n",
        "    top_sentence_idx = cosine_similarities_sentences.argsort()[-1]\n",
        "    top_sentence = sentences[top_sentence_idx]\n",
        "    summaries.append(top_sentence)\n",
        "\n",
        "# Create a merged summary by concatenating the most representative sentences from each article\n",
        "merged_summary = '. '.join(summaries)\n",
        "\n",
        "print(\"Merged Summary:\")\n",
        "print(merged_summary)"
      ]
    },
    {
      "cell_type": "code",
      "execution_count": null,
      "metadata": {
        "colab": {
          "base_uri": "https://localhost:8080/"
        },
        "id": "lfq-1wrklM2t",
        "outputId": "254077d2-b5c0-487f-976e-829832848f6a"
      },
      "outputs": [
        {
          "name": "stdout",
          "output_type": "stream",
          "text": [
            "I never thought I’d ever — anyway.” He did not take any questions from the reporters, but said he was working to bring home the Americans who were captured by Hamas and taken to Gaza.\n",
            "“I haven’t given up hope of bringing these folks home,” he said.\n",
            "“If I told you, I wouldn’t be able to get them home.”\n",
            "According to reports, up to 40 babies were slaughtered in their homes near the Gaza Strip, which is controlled by Hamas.\n",
            "While a senior White House national security aide stated they hadn't viewed the mentioned images, another White House official cited remarks made by Tal Heinrich, a spokesperson for Israeli Prime Minister Benjamin Netanyahu.\n",
            "On Wednesday, Heinrich quoted CNN that infants and young children had been discovered with \"decapitated\" bodies in the community of Kfar Aza.\n",
            "An Israeli Defense Forces spokesperson also told The Intercept that they could not confirm it officially, but they believed the report.\n",
            "Yossi Landau, a representative from Israel's volunteer civilian emergency response organization, Zaka, shared with CBS News that he witnessed the gruesome sight of children and infants who had been decapitated.\n",
            "“I saw a lot more that cannot be described for now, because it’s very hard to describe,” he said.\n",
            "Nicole Zedek, a television reporter for i24NEWS based in Tel Aviv, was the initial source to report the allegations of child beheadings on Tuesday\n"
          ]
        }
      ],
      "source": [
        "# 1. Tokenize the merged summary into sentences\n",
        "sentences_merged_summary = merged_summary.split('. ')\n",
        "\n",
        "# 2. Compute the TF-IDF vectors for these sentences\n",
        "sentence_vectors_merged_summary = tfidf_vectorizer.transform(sentences_merged_summary)\n",
        "\n",
        "# 3. Compute the cosine similarity between the entire merged summary and each individual sentence\n",
        "tfidf_vector_merged_summary = tfidf_vectorizer.transform([merged_summary])\n",
        "cosine_similarities_merged_summary = linear_kernel(tfidf_vector_merged_summary, sentence_vectors_merged_summary).flatten()\n",
        "\n",
        "# 4. Extract the sentence with the highest cosine similarity\n",
        "top_sentence_idx_merged = cosine_similarities_merged_summary.argsort()[-1]\n",
        "top_sentence_merged = sentences_merged_summary[top_sentence_idx_merged]\n",
        "\n",
        "print(top_sentence_merged)"
      ]
    },
    {
      "cell_type": "code",
      "execution_count": null,
      "metadata": {
        "colab": {
          "base_uri": "https://localhost:8080/"
        },
        "id": "tEJ5qPwyrocV",
        "outputId": "f35197d6-477f-47af-caf0-4578ab2c5c25"
      },
      "outputs": [
        {
          "name": "stdout",
          "output_type": "stream",
          "text": [
            "Collecting rouge\n",
            "  Downloading rouge-1.0.1-py3-none-any.whl (13 kB)\n",
            "Requirement already satisfied: six in /usr/local/lib/python3.10/dist-packages (from rouge) (1.16.0)\n",
            "Installing collected packages: rouge\n",
            "Successfully installed rouge-1.0.1\n"
          ]
        }
      ],
      "source": [
        "!pip install rouge"
      ]
    },
    {
      "cell_type": "code",
      "execution_count": null,
      "metadata": {
        "colab": {
          "base_uri": "https://localhost:8080/"
        },
        "id": "0yvmn7pprhJi",
        "outputId": "6d3c83fc-9340-4157-a9a7-e8321650154f"
      },
      "outputs": [
        {
          "name": "stdout",
          "output_type": "stream",
          "text": [
            "{'rouge-1': {'r': 0.28970331588132636, 'p': 1.0, 'f': 0.44925574753148123}, 'rouge-2': {'r': 0.2271356783919598, 'p': 1.0, 'f': 0.3701883671716837}, 'rouge-l': {'r': 0.28970331588132636, 'p': 1.0, 'f': 0.44925574753148123}}\n"
          ]
        }
      ],
      "source": [
        "# First, you'll need to install the rouge library if you haven't already:\n",
        "# !pip install rouge\n",
        "\n",
        "from rouge import Rouge\n",
        "\n",
        "def compute_rouge_scores(hypothesis, reference):\n",
        "    \"\"\"\n",
        "    Compute the ROUGE scores between the hypothesis (system-produced summary) and the reference (human-written summary).\n",
        "\n",
        "    Parameters:\n",
        "    - hypothesis (str): The system-produced summary.\n",
        "    - reference (str): The human-written (reference) summary.\n",
        "\n",
        "    Returns:\n",
        "    - dict: Dictionary containing ROUGE-1, ROUGE-2, and ROUGE-L scores (F1, precision, and recall for each).\n",
        "    \"\"\"\n",
        "    rouge = Rouge()\n",
        "    scores = rouge.get_scores(hypothesis, reference, avg=True)\n",
        "\n",
        "    return scores\n",
        "\n",
        "\n",
        "# Using the merged_summary and top_sentence_merged from previous steps\n",
        "scores = compute_rouge_scores(top_sentence_merged, merged_summary)\n",
        "print(scores)"
      ]
    }
  ],
  "metadata": {
    "colab": {
      "provenance": []
    },
    "kernelspec": {
      "display_name": "Python 3",
      "name": "python3"
    },
    "language_info": {
      "name": "python"
    }
  },
  "nbformat": 4,
  "nbformat_minor": 0
}
